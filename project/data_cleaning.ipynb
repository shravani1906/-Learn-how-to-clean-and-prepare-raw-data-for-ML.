{
 "cells": [
  {
   "cell_type": "code",
   "execution_count": 1,
   "id": "b823d95c",
   "metadata": {},
   "outputs": [],
   "source": [
    "import pandas as pd\n",
    "import numpy as np\n",
    "import matplotlib.pyplot as plt\n",
    "import seaborn as sns"
   ]
  },
  {
   "cell_type": "code",
   "execution_count": 2,
   "id": "05582656",
   "metadata": {},
   "outputs": [
    {
     "name": "stdout",
     "output_type": "stream",
     "text": [
      "Initial Dataset:\n",
      "   PassengerId  Survived  Pclass  \\\n",
      "0            1         0       3   \n",
      "1            2         1       1   \n",
      "2            3         1       3   \n",
      "3            4         1       1   \n",
      "4            5         0       3   \n",
      "\n",
      "                                                Name     Sex   Age  SibSp  \\\n",
      "0                            Braund, Mr. Owen Harris    male  22.0      1   \n",
      "1  Cumings, Mrs. John Bradley (Florence Briggs Th...  female  38.0      1   \n",
      "2                             Heikkinen, Miss. Laina  female  26.0      0   \n",
      "3       Futrelle, Mrs. Jacques Heath (Lily May Peel)  female  35.0      1   \n",
      "4                           Allen, Mr. William Henry    male  35.0      0   \n",
      "\n",
      "   Parch            Ticket     Fare Cabin Embarked  \n",
      "0      0         A/5 21171   7.2500   NaN        S  \n",
      "1      0          PC 17599  71.2833   C85        C  \n",
      "2      0  STON/O2. 3101282   7.9250   NaN        S  \n",
      "3      0            113803  53.1000  C123        S  \n",
      "4      0            373450   8.0500   NaN        S  \n",
      "\n",
      "Data Types:\n",
      " PassengerId      int64\n",
      "Survived         int64\n",
      "Pclass           int64\n",
      "Name            object\n",
      "Sex             object\n",
      "Age            float64\n",
      "SibSp            int64\n",
      "Parch            int64\n",
      "Ticket          object\n",
      "Fare           float64\n",
      "Cabin           object\n",
      "Embarked        object\n",
      "dtype: object\n",
      "\n",
      "Missing Values:\n",
      " PassengerId      0\n",
      "Survived         0\n",
      "Pclass           0\n",
      "Name             0\n",
      "Sex              0\n",
      "Age            177\n",
      "SibSp            0\n",
      "Parch            0\n",
      "Ticket           0\n",
      "Fare             0\n",
      "Cabin          687\n",
      "Embarked         2\n",
      "dtype: int64\n"
     ]
    }
   ],
   "source": [
    "df = pd.read_csv('dataset.csv')\n",
    "print(\"Initial Dataset:\")\n",
    "print(df.head())\n",
    "print(\"\\nData Types:\\n\", df.dtypes)\n",
    "print(\"\\nMissing Values:\\n\", df.isnull().sum())"
   ]
  },
  {
   "cell_type": "code",
   "execution_count": 10,
   "id": "3ed1a69e",
   "metadata": {},
   "outputs": [
    {
     "name": "stdout",
     "output_type": "stream",
     "text": [
      "Column 'Cabin' not found in DataFrame.\n"
     ]
    }
   ],
   "source": [
    "if 'Cabin' in df.columns:\n",
    "    df = pd.get_dummies(df, columns=['Cabin'], drop_first=True)\n",
    "else:\n",
    "    print(\"Column 'Cabin' not found in DataFrame.\")"
   ]
  },
  {
   "cell_type": "code",
   "execution_count": 12,
   "id": "2c76c109",
   "metadata": {},
   "outputs": [],
   "source": [
    "# Fill missing values properly\n",
    "df['Age'] = df['Age'].fillna(df['Age'].median())\n",
    "df['Fare'] = df['Fare'].fillna(df['Fare'].mean())\n",
    "df['Embarked'] = df['Embarked'].fillna(df['Embarked'].mode()[0])\n",
    "\n",
    "# Convert 'Sex' to numeric\n",
    "df['Sex'] = df['Sex'].map({'male': 0, 'female': 1})\n",
    "\n",
    "# Drop columns only if they exist\n",
    "df = df.drop(columns=['Cabin', 'Name', 'Ticket', 'PassengerId'], errors='ignore')\n",
    "\n",
    "# Convert categorical column 'Embarked' to dummies\n",
    "df = pd.get_dummies(df, columns=['Embarked'], drop_first=True)\n"
   ]
  },
  {
   "cell_type": "code",
   "execution_count": 13,
   "id": "e04b1d48",
   "metadata": {},
   "outputs": [],
   "source": [
    "from sklearn.preprocessing import StandardScaler\n",
    "scaler = StandardScaler()\n",
    "df[['Age', 'Fare']] = scaler.fit_transform(df[['Age', 'Fare']])"
   ]
  },
  {
   "cell_type": "code",
   "execution_count": 14,
   "id": "25e2611d",
   "metadata": {},
   "outputs": [
    {
     "data": {
      "image/png": "[encoded data removed]",
      "text/plain": [
       "<Figure size 800x400 with 1 Axes>"
      ]
     },
     "metadata": {},
     "output_type": "display_data"
    }
   ],
   "source": [
    "plt.figure(figsize=(8,4))\n",
    "sns.boxplot(data=df[['Age', 'Fare']])\n",
    "plt.title(\"Boxplot to Check Outliers\")\n",
    "plt.show()"
   ]
  },
  {
   "cell_type": "code",
   "execution_count": 15,
   "id": "924ac7aa",
   "metadata": {},
   "outputs": [
    {
     "name": "stdout",
     "output_type": "stream",
     "text": [
      "\n",
      "Cleaned Data:\n",
      "      Survived  Pclass  Sex       Age  SibSp  Parch      Fare  Ticket_110413  \\\n",
      "0           0       3  NaN -0.565736      1      0 -0.502445          False   \n",
      "1           1       1  NaN  0.663861      1      0  0.786845          False   \n",
      "2           1       3  NaN -0.258337      0      0 -0.488854          False   \n",
      "3           1       1  NaN  0.433312      1      0  0.420730          False   \n",
      "4           0       3  NaN  0.433312      0      0 -0.486337          False   \n",
      "..        ...     ...  ...       ...    ...    ...       ...            ...   \n",
      "886         0       2  NaN -0.181487      0      0 -0.386671          False   \n",
      "887         1       1  NaN -0.796286      0      0 -0.044381          False   \n",
      "888         0       3  NaN -0.104637      1      2 -0.176263          False   \n",
      "889         1       1  NaN -0.258337      0      0 -0.044381          False   \n",
      "890         0       3  NaN  0.202762      0      0 -0.492378          False   \n",
      "\n",
      "     Ticket_110465  Ticket_110564  ...  Cabin_F G63  Cabin_F G73  Cabin_F2  \\\n",
      "0            False          False  ...        False        False     False   \n",
      "1            False          False  ...        False        False     False   \n",
      "2            False          False  ...        False        False     False   \n",
      "3            False          False  ...        False        False     False   \n",
      "4            False          False  ...        False        False     False   \n",
      "..             ...            ...  ...          ...          ...       ...   \n",
      "886          False          False  ...        False        False     False   \n",
      "887          False          False  ...        False        False     False   \n",
      "888          False          False  ...        False        False     False   \n",
      "889          False          False  ...        False        False     False   \n",
      "890          False          False  ...        False        False     False   \n",
      "\n",
      "     Cabin_F33  Cabin_F38  Cabin_F4  Cabin_G6  Cabin_T  Embarked_Q  Embarked_S  \n",
      "0        False      False     False     False    False       False        True  \n",
      "1        False      False     False     False    False       False       False  \n",
      "2        False      False     False     False    False       False        True  \n",
      "3        False      False     False     False    False       False        True  \n",
      "4        False      False     False     False    False       False        True  \n",
      "..         ...        ...       ...       ...      ...         ...         ...  \n",
      "886      False      False     False     False    False       False        True  \n",
      "887      False      False     False     False    False       False        True  \n",
      "888      False      False     False     False    False       False        True  \n",
      "889      False      False     False     False    False       False       False  \n",
      "890      False      False     False     False    False        True       False  \n",
      "\n",
      "[864 rows x 835 columns]\n"
     ]
    }
   ],
   "source": [
    "from scipy import stats\n",
    "z_scores = np.abs(stats.zscore(df[['Age', 'Fare']]))\n",
    "df = df[(z_scores < 3).all(axis=1)]\n",
    "\n",
    "print(\"\\nCleaned Data:\\n\", df)"
   ]
  }
 ],
 "metadata": {
  "kernelspec": {
   "display_name": "Python 3",
   "language": "python",
   "name": "python3"
  },
  "language_info": {
   "codemirror_mode": {
    "name": "ipython",
    "version": 3
   },
   "file_extension": ".py",
   "mimetype": "text/x-python",
   "name": "python",
   "nbconvert_exporter": "python",
   "pygments_lexer": "ipython3",
   "version": "3.9.0"
  }
 },
 "nbformat": 4,
 "nbformat_minor": 5
}
